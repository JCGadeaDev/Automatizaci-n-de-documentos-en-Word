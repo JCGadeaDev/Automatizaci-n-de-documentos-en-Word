{
 "cells": [
  {
   "cell_type": "markdown",
   "id": "7d32bf9e-2a20-4915-8edf-0ac37f27d8d4",
   "metadata": {},
   "source": [
    "Instalar Docxtpl"
   ]
  },
  {
   "cell_type": "code",
   "execution_count": 3,
   "id": "7de7437a-5384-4819-954e-607a61c1c69e",
   "metadata": {},
   "outputs": [],
   "source": [
    "!pip install docxtpl -q"
   ]
  },
  {
   "cell_type": "markdown",
   "id": "1a1089bc-90eb-4815-b5ec-a38301515129",
   "metadata": {},
   "source": [
    "Instalar Pandas"
   ]
  },
  {
   "cell_type": "code",
   "execution_count": 5,
   "id": "25ba8779-10d5-4652-a4ff-20e9a812fd54",
   "metadata": {},
   "outputs": [
    {
     "name": "stdout",
     "output_type": "stream",
     "text": [
      "Collecting pandas\n",
      "  Downloading pandas-2.2.3-cp312-cp312-win_amd64.whl.metadata (19 kB)\n",
      "Collecting numpy>=1.26.0 (from pandas)\n",
      "  Downloading numpy-2.2.6-cp312-cp312-win_amd64.whl.metadata (60 kB)\n",
      "Requirement already satisfied: python-dateutil>=2.8.2 in c:\\users\\gadea\\anaconda3\\envs\\reportes\\lib\\site-packages (from pandas) (2.9.0.post0)\n",
      "Collecting pytz>=2020.1 (from pandas)\n",
      "  Using cached pytz-2025.2-py2.py3-none-any.whl.metadata (22 kB)\n",
      "Collecting tzdata>=2022.7 (from pandas)\n",
      "  Using cached tzdata-2025.2-py2.py3-none-any.whl.metadata (1.4 kB)\n",
      "Requirement already satisfied: six>=1.5 in c:\\users\\gadea\\anaconda3\\envs\\reportes\\lib\\site-packages (from python-dateutil>=2.8.2->pandas) (1.17.0)\n",
      "Downloading pandas-2.2.3-cp312-cp312-win_amd64.whl (11.5 MB)\n",
      "   ---------------------------------------- 0.0/11.5 MB ? eta -:--:--\n",
      "   ------ --------------------------------- 1.8/11.5 MB 9.2 MB/s eta 0:00:02\n",
      "   ------------ --------------------------- 3.7/11.5 MB 9.5 MB/s eta 0:00:01\n",
      "   -------------------- ------------------- 5.8/11.5 MB 9.8 MB/s eta 0:00:01\n",
      "   -------------------------- ------------- 7.6/11.5 MB 9.4 MB/s eta 0:00:01\n",
      "   ---------------------------------- ----- 10.0/11.5 MB 9.7 MB/s eta 0:00:01\n",
      "   ---------------------------------------- 11.5/11.5 MB 9.5 MB/s eta 0:00:00\n",
      "Downloading numpy-2.2.6-cp312-cp312-win_amd64.whl (12.6 MB)\n",
      "   ---------------------------------------- 0.0/12.6 MB ? eta -:--:--\n",
      "   ----- ---------------------------------- 1.8/12.6 MB 11.2 MB/s eta 0:00:01\n",
      "   -------------- ------------------------- 4.7/12.6 MB 11.4 MB/s eta 0:00:01\n",
      "   ---------------------- ----------------- 7.1/12.6 MB 11.5 MB/s eta 0:00:01\n",
      "   ----------------------------- ---------- 9.4/12.6 MB 11.5 MB/s eta 0:00:01\n",
      "   ----------------------------------- ---- 11.3/12.6 MB 11.4 MB/s eta 0:00:01\n",
      "   ---------------------------------------- 12.6/12.6 MB 11.1 MB/s eta 0:00:00\n",
      "Using cached pytz-2025.2-py2.py3-none-any.whl (509 kB)\n",
      "Using cached tzdata-2025.2-py2.py3-none-any.whl (347 kB)\n",
      "Installing collected packages: pytz, tzdata, numpy, pandas\n",
      "\n",
      "   ---------------------------------------- 0/4 [pytz]\n",
      "   ---------------------------------------- 0/4 [pytz]\n",
      "   ---------- ----------------------------- 1/4 [tzdata]\n",
      "   ---------- ----------------------------- 1/4 [tzdata]\n",
      "   ---------- ----------------------------- 1/4 [tzdata]\n",
      "   ---------- ----------------------------- 1/4 [tzdata]\n",
      "   -------------------- ------------------- 2/4 [numpy]\n",
      "   -------------------- ------------------- 2/4 [numpy]\n",
      "   -------------------- ------------------- 2/4 [numpy]\n",
      "   -------------------- ------------------- 2/4 [numpy]\n",
      "   -------------------- ------------------- 2/4 [numpy]\n",
      "   -------------------- ------------------- 2/4 [numpy]\n",
      "   -------------------- ------------------- 2/4 [numpy]\n",
      "   -------------------- ------------------- 2/4 [numpy]\n",
      "   -------------------- ------------------- 2/4 [numpy]\n",
      "   -------------------- ------------------- 2/4 [numpy]\n",
      "   -------------------- ------------------- 2/4 [numpy]\n",
      "   -------------------- ------------------- 2/4 [numpy]\n",
      "   -------------------- ------------------- 2/4 [numpy]\n",
      "   -------------------- ------------------- 2/4 [numpy]\n",
      "   -------------------- ------------------- 2/4 [numpy]\n",
      "   -------------------- ------------------- 2/4 [numpy]\n",
      "   -------------------- ------------------- 2/4 [numpy]\n",
      "   -------------------- ------------------- 2/4 [numpy]\n",
      "   -------------------- ------------------- 2/4 [numpy]\n",
      "   -------------------- ------------------- 2/4 [numpy]\n",
      "   -------------------- ------------------- 2/4 [numpy]\n",
      "   -------------------- ------------------- 2/4 [numpy]\n",
      "   -------------------- ------------------- 2/4 [numpy]\n",
      "   -------------------- ------------------- 2/4 [numpy]\n",
      "   -------------------- ------------------- 2/4 [numpy]\n",
      "   -------------------- ------------------- 2/4 [numpy]\n",
      "   -------------------- ------------------- 2/4 [numpy]\n",
      "   -------------------- ------------------- 2/4 [numpy]\n",
      "   -------------------- ------------------- 2/4 [numpy]\n",
      "   -------------------- ------------------- 2/4 [numpy]\n",
      "   -------------------- ------------------- 2/4 [numpy]\n",
      "   -------------------- ------------------- 2/4 [numpy]\n",
      "   -------------------- ------------------- 2/4 [numpy]\n",
      "   -------------------- ------------------- 2/4 [numpy]\n",
      "   -------------------- ------------------- 2/4 [numpy]\n",
      "   -------------------- ------------------- 2/4 [numpy]\n",
      "   ------------------------------ --------- 3/4 [pandas]\n",
      "   ------------------------------ --------- 3/4 [pandas]\n",
      "   ------------------------------ --------- 3/4 [pandas]\n",
      "   ------------------------------ --------- 3/4 [pandas]\n",
      "   ------------------------------ --------- 3/4 [pandas]\n",
      "   ------------------------------ --------- 3/4 [pandas]\n",
      "   ------------------------------ --------- 3/4 [pandas]\n",
      "   ------------------------------ --------- 3/4 [pandas]\n",
      "   ------------------------------ --------- 3/4 [pandas]\n",
      "   ------------------------------ --------- 3/4 [pandas]\n",
      "   ------------------------------ --------- 3/4 [pandas]\n",
      "   ------------------------------ --------- 3/4 [pandas]\n",
      "   ------------------------------ --------- 3/4 [pandas]\n",
      "   ------------------------------ --------- 3/4 [pandas]\n",
      "   ------------------------------ --------- 3/4 [pandas]\n",
      "   ------------------------------ --------- 3/4 [pandas]\n",
      "   ------------------------------ --------- 3/4 [pandas]\n",
      "   ------------------------------ --------- 3/4 [pandas]\n",
      "   ------------------------------ --------- 3/4 [pandas]\n",
      "   ------------------------------ --------- 3/4 [pandas]\n",
      "   ------------------------------ --------- 3/4 [pandas]\n",
      "   ------------------------------ --------- 3/4 [pandas]\n",
      "   ------------------------------ --------- 3/4 [pandas]\n",
      "   ------------------------------ --------- 3/4 [pandas]\n",
      "   ------------------------------ --------- 3/4 [pandas]\n",
      "   ------------------------------ --------- 3/4 [pandas]\n",
      "   ------------------------------ --------- 3/4 [pandas]\n",
      "   ------------------------------ --------- 3/4 [pandas]\n",
      "   ------------------------------ --------- 3/4 [pandas]\n",
      "   ------------------------------ --------- 3/4 [pandas]\n",
      "   ------------------------------ --------- 3/4 [pandas]\n",
      "   ------------------------------ --------- 3/4 [pandas]\n",
      "   ------------------------------ --------- 3/4 [pandas]\n",
      "   ------------------------------ --------- 3/4 [pandas]\n",
      "   ------------------------------ --------- 3/4 [pandas]\n",
      "   ------------------------------ --------- 3/4 [pandas]\n",
      "   ------------------------------ --------- 3/4 [pandas]\n",
      "   ------------------------------ --------- 3/4 [pandas]\n",
      "   ------------------------------ --------- 3/4 [pandas]\n",
      "   ------------------------------ --------- 3/4 [pandas]\n",
      "   ------------------------------ --------- 3/4 [pandas]\n",
      "   ------------------------------ --------- 3/4 [pandas]\n",
      "   ------------------------------ --------- 3/4 [pandas]\n",
      "   ------------------------------ --------- 3/4 [pandas]\n",
      "   ------------------------------ --------- 3/4 [pandas]\n",
      "   ------------------------------ --------- 3/4 [pandas]\n",
      "   ------------------------------ --------- 3/4 [pandas]\n",
      "   ------------------------------ --------- 3/4 [pandas]\n",
      "   ------------------------------ --------- 3/4 [pandas]\n",
      "   ------------------------------ --------- 3/4 [pandas]\n",
      "   ------------------------------ --------- 3/4 [pandas]\n",
      "   ------------------------------ --------- 3/4 [pandas]\n",
      "   ------------------------------ --------- 3/4 [pandas]\n",
      "   ------------------------------ --------- 3/4 [pandas]\n",
      "   ------------------------------ --------- 3/4 [pandas]\n",
      "   ------------------------------ --------- 3/4 [pandas]\n",
      "   ------------------------------ --------- 3/4 [pandas]\n",
      "   ------------------------------ --------- 3/4 [pandas]\n",
      "   ------------------------------ --------- 3/4 [pandas]\n",
      "   ------------------------------ --------- 3/4 [pandas]\n",
      "   ------------------------------ --------- 3/4 [pandas]\n",
      "   ------------------------------ --------- 3/4 [pandas]\n",
      "   ------------------------------ --------- 3/4 [pandas]\n",
      "   ------------------------------ --------- 3/4 [pandas]\n",
      "   ------------------------------ --------- 3/4 [pandas]\n",
      "   ------------------------------ --------- 3/4 [pandas]\n",
      "   ------------------------------ --------- 3/4 [pandas]\n",
      "   ------------------------------ --------- 3/4 [pandas]\n",
      "   ------------------------------ --------- 3/4 [pandas]\n",
      "   ------------------------------ --------- 3/4 [pandas]\n",
      "   ------------------------------ --------- 3/4 [pandas]\n",
      "   ------------------------------ --------- 3/4 [pandas]\n",
      "   ------------------------------ --------- 3/4 [pandas]\n",
      "   ------------------------------ --------- 3/4 [pandas]\n",
      "   ------------------------------ --------- 3/4 [pandas]\n",
      "   ------------------------------ --------- 3/4 [pandas]\n",
      "   ------------------------------ --------- 3/4 [pandas]\n",
      "   ------------------------------ --------- 3/4 [pandas]\n",
      "   ------------------------------ --------- 3/4 [pandas]\n",
      "   ------------------------------ --------- 3/4 [pandas]\n",
      "   ------------------------------ --------- 3/4 [pandas]\n",
      "   ------------------------------ --------- 3/4 [pandas]\n",
      "   ------------------------------ --------- 3/4 [pandas]\n",
      "   ------------------------------ --------- 3/4 [pandas]\n",
      "   ------------------------------ --------- 3/4 [pandas]\n",
      "   ------------------------------ --------- 3/4 [pandas]\n",
      "   ------------------------------ --------- 3/4 [pandas]\n",
      "   ------------------------------ --------- 3/4 [pandas]\n",
      "   ------------------------------ --------- 3/4 [pandas]\n",
      "   ------------------------------ --------- 3/4 [pandas]\n",
      "   ------------------------------ --------- 3/4 [pandas]\n",
      "   ------------------------------ --------- 3/4 [pandas]\n",
      "   ------------------------------ --------- 3/4 [pandas]\n",
      "   ------------------------------ --------- 3/4 [pandas]\n",
      "   ------------------------------ --------- 3/4 [pandas]\n",
      "   ------------------------------ --------- 3/4 [pandas]\n",
      "   ------------------------------ --------- 3/4 [pandas]\n",
      "   ------------------------------ --------- 3/4 [pandas]\n",
      "   ------------------------------ --------- 3/4 [pandas]\n",
      "   ------------------------------ --------- 3/4 [pandas]\n",
      "   ------------------------------ --------- 3/4 [pandas]\n",
      "   ------------------------------ --------- 3/4 [pandas]\n",
      "   ------------------------------ --------- 3/4 [pandas]\n",
      "   ------------------------------ --------- 3/4 [pandas]\n",
      "   ------------------------------ --------- 3/4 [pandas]\n",
      "   ------------------------------ --------- 3/4 [pandas]\n",
      "   ---------------------------------------- 4/4 [pandas]\n",
      "\n",
      "Successfully installed numpy-2.2.6 pandas-2.2.3 pytz-2025.2 tzdata-2025.2\n"
     ]
    }
   ],
   "source": [
    "!pip install pandas"
   ]
  },
  {
   "cell_type": "markdown",
   "id": "82096202-1f7e-4e90-bb77-ce8135ba32f1",
   "metadata": {},
   "source": [
    "Importar Pandas, datetime y docxtpl"
   ]
  },
  {
   "cell_type": "code",
   "execution_count": 8,
   "id": "05273194-1c31-47be-8a18-66b0d336a1df",
   "metadata": {},
   "outputs": [],
   "source": [
    "import pandas as pd\n",
    "from datetime import datetime\n",
    "from docxtpl import DocxTemplate "
   ]
  },
  {
   "cell_type": "markdown",
   "id": "906567db-db01-43f4-9f41-a2b78f196d02",
   "metadata": {},
   "source": [
    "Guardar DocxTemplate en una variable, con el nombre del documento de word"
   ]
  },
  {
   "cell_type": "code",
   "execution_count": 9,
   "id": "25a151d2-2356-41fc-9afd-5680d3673de2",
   "metadata": {},
   "outputs": [],
   "source": [
    "doc = DocxTemplate(\"plantilla.docx\")"
   ]
  },
  {
   "cell_type": "markdown",
   "id": "f26fcc48-8bf3-46c4-84c8-500020fda34f",
   "metadata": {},
   "source": [
    "Creamos variables donde se guarden nuestra informacion del documento de word, dependiendo de las variables que vamos a usar."
   ]
  },
  {
   "cell_type": "code",
   "execution_count": 10,
   "id": "6e35493c-1382-4023-b2f9-4e632c90921a",
   "metadata": {},
   "outputs": [],
   "source": [
    "nombre = \"Juan Carlos Gadea\"\n",
    "telefono = \"(39)344 852 9898\"\n",
    "correo = \"gadeanova@hotmail.com\"\n",
    "fecha = datetime.today().strftime(\"%d/%m/%Y\")"
   ]
  },
  {
   "cell_type": "code",
   "execution_count": 11,
   "id": "d1865cbb-94a1-4c39-b8da-a438fedbb7da",
   "metadata": {},
   "outputs": [
    {
     "name": "stdout",
     "output_type": "stream",
     "text": [
      "03/06/2025\n"
     ]
    }
   ],
   "source": [
    "print(fecha)"
   ]
  },
  {
   "cell_type": "markdown",
   "id": "c708ff2b-5bb5-4b6b-b069-dc837b5b7c36",
   "metadata": {},
   "source": [
    "Crear un diccionario de datos con las variables que ya tenemos "
   ]
  },
  {
   "cell_type": "code",
   "execution_count": 13,
   "id": "01c41325-2fa0-4321-b765-a2fd4f1717fb",
   "metadata": {},
   "outputs": [],
   "source": [
    "constantes = {'nombre' : nombre, 'telefono': telefono, 'correo': correo, 'fecha': fecha}"
   ]
  },
  {
   "cell_type": "code",
   "execution_count": 14,
   "id": "890d72d7-fcb5-41d1-8119-b18921554d8b",
   "metadata": {},
   "outputs": [
    {
     "name": "stdout",
     "output_type": "stream",
     "text": [
      "{'nombre': 'Juan Carlos Gadea', 'telefono': '(39)344 852 9898', 'correo': 'gadeanova@hotmail.com', 'fecha': '03/06/2025'}\n"
     ]
    }
   ],
   "source": [
    "print(constantes)"
   ]
  },
  {
   "cell_type": "markdown",
   "id": "45e529d2-be26-4e52-b107-38c54e91289b",
   "metadata": {},
   "source": [
    "Instalamos y importamos openpyxl "
   ]
  },
  {
   "cell_type": "code",
   "execution_count": 17,
   "id": "612d1aea-f51c-4286-b70b-4b9465d990d1",
   "metadata": {},
   "outputs": [],
   "source": [
    "import openpyxl"
   ]
  },
  {
   "cell_type": "markdown",
   "id": "240000c0-7ad4-4c14-8fe0-ba916c74d0de",
   "metadata": {},
   "source": [
    "Guardar como un dataframe la informacion del excel que se encuentran las notas de los alumnos "
   ]
  },
  {
   "cell_type": "code",
   "execution_count": 27,
   "id": "5ebcb17d-e1f9-4628-bcc8-2b71507429af",
   "metadata": {},
   "outputs": [],
   "source": [
    "df = pd.read_excel('Alumnos.xlsx')"
   ]
  },
  {
   "cell_type": "code",
   "execution_count": 28,
   "id": "e4c77e24-c6bc-4af0-9d7c-ab79338147fb",
   "metadata": {},
   "outputs": [
    {
     "data": {
      "text/html": [
       "<div>\n",
       "<style scoped>\n",
       "    .dataframe tbody tr th:only-of-type {\n",
       "        vertical-align: middle;\n",
       "    }\n",
       "\n",
       "    .dataframe tbody tr th {\n",
       "        vertical-align: top;\n",
       "    }\n",
       "\n",
       "    .dataframe thead th {\n",
       "        text-align: right;\n",
       "    }\n",
       "</style>\n",
       "<table border=\"1\" class=\"dataframe\">\n",
       "  <thead>\n",
       "    <tr style=\"text-align: right;\">\n",
       "      <th></th>\n",
       "      <th>Nombre del Alumno</th>\n",
       "      <th>Mat</th>\n",
       "      <th>Fis</th>\n",
       "      <th>Qui</th>\n",
       "    </tr>\n",
       "  </thead>\n",
       "  <tbody>\n",
       "    <tr>\n",
       "      <th>0</th>\n",
       "      <td>Juan Perez</td>\n",
       "      <td>6.2</td>\n",
       "      <td>5.8</td>\n",
       "      <td>6.1</td>\n",
       "    </tr>\n",
       "    <tr>\n",
       "      <th>1</th>\n",
       "      <td>Ana Soto</td>\n",
       "      <td>5.9</td>\n",
       "      <td>6.4</td>\n",
       "      <td>6.3</td>\n",
       "    </tr>\n",
       "    <tr>\n",
       "      <th>2</th>\n",
       "      <td>Luis Rodriguez</td>\n",
       "      <td>5.6</td>\n",
       "      <td>6.1</td>\n",
       "      <td>5.9</td>\n",
       "    </tr>\n",
       "    <tr>\n",
       "      <th>3</th>\n",
       "      <td>Maria Gonzalez</td>\n",
       "      <td>6.4</td>\n",
       "      <td>6.2</td>\n",
       "      <td>6.0</td>\n",
       "    </tr>\n",
       "    <tr>\n",
       "      <th>4</th>\n",
       "      <td>Carlos Ruiz</td>\n",
       "      <td>6.0</td>\n",
       "      <td>6.3</td>\n",
       "      <td>5.8</td>\n",
       "    </tr>\n",
       "    <tr>\n",
       "      <th>5</th>\n",
       "      <td>Sofia Diaz</td>\n",
       "      <td>6.1</td>\n",
       "      <td>5.9</td>\n",
       "      <td>6.2</td>\n",
       "    </tr>\n",
       "    <tr>\n",
       "      <th>6</th>\n",
       "      <td>Lucas Mendez</td>\n",
       "      <td>5.8</td>\n",
       "      <td>6.0</td>\n",
       "      <td>6.1</td>\n",
       "    </tr>\n",
       "    <tr>\n",
       "      <th>7</th>\n",
       "      <td>Isabel Paredes</td>\n",
       "      <td>6.3</td>\n",
       "      <td>6.1</td>\n",
       "      <td>6.2</td>\n",
       "    </tr>\n",
       "    <tr>\n",
       "      <th>8</th>\n",
       "      <td>Daniel Castillo</td>\n",
       "      <td>6.2</td>\n",
       "      <td>6.0</td>\n",
       "      <td>6.3</td>\n",
       "    </tr>\n",
       "    <tr>\n",
       "      <th>9</th>\n",
       "      <td>Fernanda Herrera</td>\n",
       "      <td>6.1</td>\n",
       "      <td>5.7</td>\n",
       "      <td>6.0</td>\n",
       "    </tr>\n",
       "  </tbody>\n",
       "</table>\n",
       "</div>"
      ],
      "text/plain": [
       "  Nombre del Alumno   Mat  Fis  Qui\n",
       "0         Juan Perez  6.2  5.8  6.1\n",
       "1           Ana Soto  5.9  6.4  6.3\n",
       "2     Luis Rodriguez  5.6  6.1  5.9\n",
       "3    Maria Gonzalez   6.4  6.2  6.0\n",
       "4        Carlos Ruiz  6.0  6.3  5.8\n",
       "5         Sofia Diaz  6.1  5.9  6.2\n",
       "6       Lucas Mendez  5.8  6.0  6.1\n",
       "7     Isabel Paredes  6.3  6.1  6.2\n",
       "8    Daniel Castillo  6.2  6.0  6.3\n",
       "9   Fernanda Herrera  6.1  5.7  6.0"
      ]
     },
     "execution_count": 28,
     "metadata": {},
     "output_type": "execute_result"
    }
   ],
   "source": [
    "df"
   ]
  },
  {
   "cell_type": "markdown",
   "id": "2ce29d7e-aba4-4cec-89bb-8bb1f84382ef",
   "metadata": {},
   "source": [
    "Vamos a Recorrer el DataFrame  y utilizar el metodo iterrows para iterar en el Dataframe DF que seria nuestro DataFrame y creamos un  nuevo diccionario con el nombre contenido, le agregamos los valores de Constantes que son datos que no cambian update()"
   ]
  },
  {
   "cell_type": "code",
   "execution_count": 34,
   "id": "4bac84bf-ea1e-4c1a-96af-12555a180c89",
   "metadata": {},
   "outputs": [
    {
     "name": "stdout",
     "output_type": "stream",
     "text": [
      "{'nombre_alumno': 'Juan Perez', 'nota_mat': 6.2, 'nota_fis': 5.8, 'nota_qui': 6.1, 'nombre': 'Juan Carlos Gadea', 'telefono': '(39)344 852 9898', 'correo': 'gadeanova@hotmail.com', 'fecha': '03/06/2025'}\n",
      "{'nombre_alumno': 'Ana Soto', 'nota_mat': 5.9, 'nota_fis': 6.4, 'nota_qui': 6.3, 'nombre': 'Juan Carlos Gadea', 'telefono': '(39)344 852 9898', 'correo': 'gadeanova@hotmail.com', 'fecha': '03/06/2025'}\n",
      "{'nombre_alumno': 'Luis Rodriguez', 'nota_mat': 5.6, 'nota_fis': 6.1, 'nota_qui': 5.9, 'nombre': 'Juan Carlos Gadea', 'telefono': '(39)344 852 9898', 'correo': 'gadeanova@hotmail.com', 'fecha': '03/06/2025'}\n",
      "{'nombre_alumno': 'Maria Gonzalez ', 'nota_mat': 6.4, 'nota_fis': 6.2, 'nota_qui': 6.0, 'nombre': 'Juan Carlos Gadea', 'telefono': '(39)344 852 9898', 'correo': 'gadeanova@hotmail.com', 'fecha': '03/06/2025'}\n",
      "{'nombre_alumno': 'Carlos Ruiz', 'nota_mat': 6.0, 'nota_fis': 6.3, 'nota_qui': 5.8, 'nombre': 'Juan Carlos Gadea', 'telefono': '(39)344 852 9898', 'correo': 'gadeanova@hotmail.com', 'fecha': '03/06/2025'}\n",
      "{'nombre_alumno': 'Sofia Diaz', 'nota_mat': 6.1, 'nota_fis': 5.9, 'nota_qui': 6.2, 'nombre': 'Juan Carlos Gadea', 'telefono': '(39)344 852 9898', 'correo': 'gadeanova@hotmail.com', 'fecha': '03/06/2025'}\n",
      "{'nombre_alumno': 'Lucas Mendez', 'nota_mat': 5.8, 'nota_fis': 6.0, 'nota_qui': 6.1, 'nombre': 'Juan Carlos Gadea', 'telefono': '(39)344 852 9898', 'correo': 'gadeanova@hotmail.com', 'fecha': '03/06/2025'}\n",
      "{'nombre_alumno': 'Isabel Paredes', 'nota_mat': 6.3, 'nota_fis': 6.1, 'nota_qui': 6.2, 'nombre': 'Juan Carlos Gadea', 'telefono': '(39)344 852 9898', 'correo': 'gadeanova@hotmail.com', 'fecha': '03/06/2025'}\n",
      "{'nombre_alumno': 'Daniel Castillo', 'nota_mat': 6.2, 'nota_fis': 6.0, 'nota_qui': 6.3, 'nombre': 'Juan Carlos Gadea', 'telefono': '(39)344 852 9898', 'correo': 'gadeanova@hotmail.com', 'fecha': '03/06/2025'}\n",
      "{'nombre_alumno': 'Fernanda Herrera', 'nota_mat': 6.1, 'nota_fis': 5.7, 'nota_qui': 6.0, 'nombre': 'Juan Carlos Gadea', 'telefono': '(39)344 852 9898', 'correo': 'gadeanova@hotmail.com', 'fecha': '03/06/2025'}\n"
     ]
    }
   ],
   "source": [
    "for indice, fila in df.iterrows():\n",
    "    contenido = {\n",
    "        'nombre_alumno':fila ['Nombre del Alumno '],\n",
    "        'nota_mat':fila ['Mat'],\n",
    "        'nota_fis':fila ['Fis'],\n",
    "        'nota_qui':fila ['Qui']       \n",
    "    }\n",
    "    contenido.update(constantes)\n",
    "\n",
    "    doc.render(contenido)\n",
    "    doc.save(f\"Notas_de_{fila['Nombre del Alumno ']}.docx\")\n",
    "    \n",
    "    print(contenido)"
   ]
  },
  {
   "cell_type": "markdown",
   "id": "04e0bc2b-6f41-4069-b434-e30caddb2510",
   "metadata": {},
   "source": [
    "PRUEBA 1  - Guardamos la variable constantes y la guardamos como prueba, con el metodo render y el metodo save para guardar el nombre del documento"
   ]
  },
  {
   "cell_type": "code",
   "execution_count": 15,
   "id": "6d735c67-c8d8-433e-ade9-f412ea0c8e7c",
   "metadata": {},
   "outputs": [],
   "source": [
    "doc.render(constantes)\n",
    "doc.save(f\"prueba.docx\")"
   ]
  },
  {
   "cell_type": "code",
   "execution_count": null,
   "id": "507f2c18-8005-460f-9db6-655aeecc65f2",
   "metadata": {},
   "outputs": [],
   "source": []
  }
 ],
 "metadata": {
  "kernelspec": {
   "display_name": "Python 3 (ipykernel)",
   "language": "python",
   "name": "python3"
  },
  "language_info": {
   "codemirror_mode": {
    "name": "ipython",
    "version": 3
   },
   "file_extension": ".py",
   "mimetype": "text/x-python",
   "name": "python",
   "nbconvert_exporter": "python",
   "pygments_lexer": "ipython3",
   "version": "3.12.9"
  }
 },
 "nbformat": 4,
 "nbformat_minor": 5
}
